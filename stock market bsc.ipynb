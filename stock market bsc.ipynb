{
 "cells": [
  {
   "cell_type": "code",
   "execution_count": 9,
   "id": "b0fd8a3c",
   "metadata": {
    "pycharm": {
     "name": "#%%\n"
    }
   },
   "outputs": [
    {
     "name": "stdout",
     "output_type": "stream",
     "text": [
      "Driver Class for Bombay Stock Exchange (BSE)\n"
     ]
    }
   ],
   "source": [
    "import pprint\n",
    "from bsedata.bse import BSE\n",
    "b = BSE()\n",
    "print(b)\n",
    "# Output:\n",
    "# Driver Class for Bombay Stock Exchange (BSE)\n",
    "\n",
    "# to execute \"updateScripCodes\" on instantiation\n",
    "b = BSE(update_codes = True)\n",
    "\n",
    "pp = pprint.PrettyPrinter(indent=4,width=40)\n",
    "\n"
   ]
  },
  {
   "cell_type": "code",
   "execution_count": 10,
   "id": "e10637ff",
   "metadata": {
    "pycharm": {
     "name": "#%%\n"
    }
   },
   "outputs": [
    {
     "name": "stdout",
     "output_type": "stream",
     "text": [
      "{   '2WeekAvgQuantity': '46.17 Lakh',\n",
      "    '52weekHigh': '147.67',\n",
      "    '52weekLow': '82.71',\n",
      "    'buy': {   '1': {   'price': '107.80',\n",
      "                        'quantity': '6538'},\n",
      "               '2': {   'price': '107.75',\n",
      "                        'quantity': '20699'},\n",
      "               '3': {   'price': '107.70',\n",
      "                        'quantity': '23278'},\n",
      "               '4': {   'price': '107.65',\n",
      "                        'quantity': '24347'},\n",
      "               '5': {   'price': '107.60',\n",
      "                        'quantity': '11162'}},\n",
      "    'change': '0.20',\n",
      "    'companyName': 'TATA STEEL LTD.',\n",
      "    'currentValue': '107.90',\n",
      "    'dayHigh': '108.65',\n",
      "    'dayLow': '107.55',\n",
      "    'faceValue': '1.00',\n",
      "    'group': 'A  / S&P BSE SENSEX',\n",
      "    'industry': 'Metals & Mining',\n",
      "    'lowerPriceBand': '',\n",
      "    'marketCapFreeFloat': '86,964.79 '\n",
      "                          'Cr.',\n",
      "    'marketCapFull': '1,31,764.84 Cr.',\n",
      "    'pChange': '0.19',\n",
      "    'previousClose': '107.70',\n",
      "    'previousOpen': '107.70',\n",
      "    'priceBand': '',\n",
      "    'scripCode': '500470',\n",
      "    'securityID': 'TATASTEEL',\n",
      "    'sell': {   '1': {   'price': '107.90',\n",
      "                         'quantity': '700'},\n",
      "                '2': {   'price': '107.95',\n",
      "                         'quantity': '9582'},\n",
      "                '3': {   'price': '108.00',\n",
      "                         'quantity': '21438'},\n",
      "                '4': {   'price': '108.05',\n",
      "                         'quantity': '20893'},\n",
      "                '5': {   'price': '108.10',\n",
      "                         'quantity': '11534'}},\n",
      "    'totalTradedQuantity': '18.36 Lakh',\n",
      "    'totalTradedValue': '19.82 Cr.',\n",
      "    'updatedOn': '13 Sep 22 | 03:02 PM',\n",
      "    'upperPriceBand': '',\n",
      "    'weightedAvgPrice': '107.98'}\n"
     ]
    }
   ],
   "source": [
    "q = b.getQuote('500470')\n",
    "pp.pprint(q)"
   ]
  },
  {
   "cell_type": "code",
   "execution_count": 5,
   "id": "558d8a32",
   "metadata": {
    "pycharm": {
     "name": "#%%\n"
    }
   },
   "outputs": [
    {
     "name": "stdout",
     "output_type": "stream",
     "text": [
      "TATA STEEL LTD.\n",
      "107.70\n",
      "12 Sep 22 | 04:01 PM\n"
     ]
    }
   ],
   "source": [
    "b = BSE()\n",
    "codelist = [\"500470\"]\n",
    "for code in codelist:\n",
    "    quote = b.getQuote(code)\n",
    "    print(quote[\"companyName\"])\n",
    "    print(quote[\"currentValue\"])\n",
    "    print(quote[\"updatedOn\"])"
   ]
  },
  {
   "cell_type": "code",
   "execution_count": 2,
   "id": "b1b4f5cf",
   "metadata": {
    "pycharm": {
     "name": "#%%\n"
    }
   },
   "outputs": [
    {
     "ename": "NameError",
     "evalue": "name 'b' is not defined",
     "output_type": "error",
     "traceback": [
      "\u001b[1;31m---------------------------------------------------------------------------\u001b[0m",
      "\u001b[1;31mNameError\u001b[0m                                 Traceback (most recent call last)",
      "Cell \u001b[1;32mIn [2], line 1\u001b[0m\n\u001b[1;32m----> 1\u001b[0m \u001b[38;5;28mprint\u001b[39m(\u001b[43mb\u001b[49m\u001b[38;5;241m.\u001b[39mgetScripCodes())\n",
      "\u001b[1;31mNameError\u001b[0m: name 'b' is not defined"
     ]
    }
   ],
   "source": [
    "print(b.getScripCodes())\n"
   ]
  },
  {
   "cell_type": "code",
   "execution_count": 6,
   "id": "4a88a536",
   "metadata": {
    "pycharm": {
     "name": "#%%\n"
    }
   },
   "outputs": [
    {
     "name": "stdout",
     "output_type": "stream",
     "text": [
      "[   {'date': 'Tue Aug 16 2022 00:00:00', 'value': 113.0, 'vol': 5462751},\n",
      "    {'date': 'Wed Aug 17 2022 00:00:00', 'value': 112.5, 'vol': 4520838},\n",
      "    {'date': 'Thu Aug 18 2022 00:00:00', 'value': 112.55, 'vol': 3917906},\n",
      "    {'date': 'Fri Aug 19 2022 00:00:00', 'value': 110.0, 'vol': 5041359},\n",
      "    {'date': 'Mon Aug 22 2022 00:00:00', 'value': 105.05, 'vol': 4276721},\n",
      "    {'date': 'Tue Aug 23 2022 00:00:00', 'value': 107.55, 'vol': 7046063},\n",
      "    {'date': 'Wed Aug 24 2022 00:00:00', 'value': 106.55, 'vol': 3396443},\n",
      "    {'date': 'Thu Aug 25 2022 00:00:00', 'value': 106.2, 'vol': 3978457},\n",
      "    {'date': 'Fri Aug 26 2022 00:00:00', 'value': 107.4, 'vol': 2408297},\n",
      "    {'date': 'Mon Aug 29 2022 00:00:00', 'value': 104.85, 'vol': 5943071},\n",
      "    {'date': 'Tue Aug 30 2022 00:00:00', 'value': 108.3, 'vol': 5754654},\n",
      "    {'date': 'Thu Sep 01 2022 00:00:00', 'value': 106.45, 'vol': 4250740},\n",
      "    {'date': 'Fri Sep 02 2022 00:00:00', 'value': 105.55, 'vol': 4160902},\n",
      "    {'date': 'Mon Sep 05 2022 00:00:00', 'value': 106.9, 'vol': 4969281},\n",
      "    {'date': 'Tue Sep 06 2022 00:00:00', 'value': 108.55, 'vol': 6000201},\n",
      "    {'date': 'Wed Sep 07 2022 00:00:00', 'value': 107.6, 'vol': 2104970},\n",
      "    {'date': 'Thu Sep 08 2022 00:00:00', 'value': 105.85, 'vol': 4463250},\n",
      "    {'date': 'Fri Sep 09 2022 00:00:00', 'value': 105.75, 'vol': 4350354},\n",
      "    {'date': 'Mon Sep 12 2022 00:00:00', 'value': 107.7, 'vol': 5496065}]\n"
     ]
    }
   ],
   "source": [
    "his = b.getPeriodTrend('500470','1M')\n",
    "pp.pprint(his)\n"
   ]
  },
  {
   "cell_type": "code",
   "execution_count": null,
   "id": "e5108259",
   "metadata": {
    "pycharm": {
     "name": "#%%\n"
    }
   },
   "outputs": [],
   "source": []
  }
 ],
 "metadata": {
  "kernelspec": {
   "display_name": "Python 3.10.7 64-bit",
   "language": "python",
   "name": "python3"
  },
  "language_info": {
   "codemirror_mode": {
    "name": "ipython",
    "version": 3
   },
   "file_extension": ".py",
   "mimetype": "text/x-python",
   "name": "python",
   "nbconvert_exporter": "python",
   "pygments_lexer": "ipython3",
   "version": "3.10.7"
  },
  "vscode": {
   "interpreter": {
    "hash": "26de051ba29f2982a8de78e945f0abaf191376122a1563185a90213a26c5da77"
   }
  }
 },
 "nbformat": 4,
 "nbformat_minor": 5
}
