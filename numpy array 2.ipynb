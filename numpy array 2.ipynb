{
 "cells": [
  {
   "cell_type": "markdown",
   "id": "9a4bfcdb",
   "metadata": {},
   "source": [
    "# array creation : conversion from other python structures\n"
   ]
  },
  {
   "cell_type": "code",
   "execution_count": 1,
   "id": "5394df5b",
   "metadata": {},
   "outputs": [],
   "source": [
    "import numpy as np"
   ]
  },
  {
   "cell_type": "code",
   "execution_count": 2,
   "id": "655047e3",
   "metadata": {},
   "outputs": [],
   "source": [
    "listarray = np . array([[1,2,3], [5,8,5], [0,3,1]])"
   ]
  },
  {
   "cell_type": "code",
   "execution_count": 3,
   "id": "25e24a43",
   "metadata": {},
   "outputs": [
    {
     "data": {
      "text/plain": [
       "array([[1, 2, 3],\n",
       "       [5, 8, 5],\n",
       "       [0, 3, 1]])"
      ]
     },
     "execution_count": 3,
     "metadata": {},
     "output_type": "execute_result"
    }
   ],
   "source": [
    "listarray"
   ]
  },
  {
   "cell_type": "code",
   "execution_count": 4,
   "id": "afe9bd38",
   "metadata": {},
   "outputs": [
    {
     "data": {
      "text/plain": [
       "dtype('int32')"
      ]
     },
     "execution_count": 4,
     "metadata": {},
     "output_type": "execute_result"
    }
   ],
   "source": [
    "listarray . dtype"
   ]
  },
  {
   "cell_type": "code",
   "execution_count": 5,
   "id": "56e4eec6",
   "metadata": {},
   "outputs": [
    {
     "data": {
      "text/plain": [
       "(3, 3)"
      ]
     },
     "execution_count": 5,
     "metadata": {},
     "output_type": "execute_result"
    }
   ],
   "source": [
    "listarray . shape"
   ]
  },
  {
   "cell_type": "code",
   "execution_count": 6,
   "id": "e366b260",
   "metadata": {},
   "outputs": [
    {
     "data": {
      "text/plain": [
       "9"
      ]
     },
     "execution_count": 6,
     "metadata": {},
     "output_type": "execute_result"
    }
   ],
   "source": [
    "listarray . size"
   ]
  },
  {
   "cell_type": "code",
   "execution_count": 7,
   "id": "ee85e8af",
   "metadata": {},
   "outputs": [
    {
     "data": {
      "text/plain": [
       "array({34, 23}, dtype=object)"
      ]
     },
     "execution_count": 7,
     "metadata": {},
     "output_type": "execute_result"
    }
   ],
   "source": [
    "np . array({34,23,23})"
   ]
  },
  {
   "cell_type": "code",
   "execution_count": 8,
   "id": "ebe1700f",
   "metadata": {},
   "outputs": [],
   "source": [
    "zeros = np . zeros((2, 5))"
   ]
  },
  {
   "cell_type": "code",
   "execution_count": 9,
   "id": "ac410af2",
   "metadata": {},
   "outputs": [
    {
     "data": {
      "text/plain": [
       "array([[0., 0., 0., 0., 0.],\n",
       "       [0., 0., 0., 0., 0.]])"
      ]
     },
     "execution_count": 9,
     "metadata": {},
     "output_type": "execute_result"
    }
   ],
   "source": [
    "zeros"
   ]
  },
  {
   "cell_type": "code",
   "execution_count": 10,
   "id": "1b4f1c7e",
   "metadata": {},
   "outputs": [
    {
     "data": {
      "text/plain": [
       "dtype('float64')"
      ]
     },
     "execution_count": 10,
     "metadata": {},
     "output_type": "execute_result"
    }
   ],
   "source": [
    "zeros . dtype"
   ]
  },
  {
   "cell_type": "code",
   "execution_count": 11,
   "id": "f7c9d154",
   "metadata": {},
   "outputs": [
    {
     "data": {
      "text/plain": [
       "(2, 5)"
      ]
     },
     "execution_count": 11,
     "metadata": {},
     "output_type": "execute_result"
    }
   ],
   "source": [
    "zeros . shape"
   ]
  },
  {
   "cell_type": "code",
   "execution_count": 12,
   "id": "37e0c4dc",
   "metadata": {},
   "outputs": [],
   "source": [
    "rng = np . arange(15)"
   ]
  },
  {
   "cell_type": "code",
   "execution_count": 13,
   "id": "a2600ccb",
   "metadata": {},
   "outputs": [
    {
     "data": {
      "text/plain": [
       "array([ 0,  1,  2,  3,  4,  5,  6,  7,  8,  9, 10, 11, 12, 13, 14])"
      ]
     },
     "execution_count": 13,
     "metadata": {},
     "output_type": "execute_result"
    }
   ],
   "source": [
    "rng"
   ]
  },
  {
   "cell_type": "code",
   "execution_count": 14,
   "id": "950e9755",
   "metadata": {},
   "outputs": [],
   "source": [
    "lspace = np . linspace(1,5,4)"
   ]
  },
  {
   "cell_type": "code",
   "execution_count": 15,
   "id": "ed84c1c3",
   "metadata": {},
   "outputs": [
    {
     "data": {
      "text/plain": [
       "array([1.        , 2.33333333, 3.66666667, 5.        ])"
      ]
     },
     "execution_count": 15,
     "metadata": {},
     "output_type": "execute_result"
    }
   ],
   "source": [
    "lspace"
   ]
  },
  {
   "cell_type": "code",
   "execution_count": 16,
   "id": "c5f49e72",
   "metadata": {},
   "outputs": [],
   "source": [
    "emp = np . empty((4,6))"
   ]
  },
  {
   "cell_type": "code",
   "execution_count": 17,
   "id": "93c349ea",
   "metadata": {},
   "outputs": [
    {
     "data": {
      "text/plain": [
       "array([[3.56043053e-307, 1.60219306e-306, 7.56571288e-307,\n",
       "        1.89146896e-307, 1.37961302e-306, 1.05699242e-307],\n",
       "       [8.01097889e-307, 1.78020169e-306, 7.56601165e-307,\n",
       "        1.02359984e-306, 1.33510679e-306, 2.22522597e-306],\n",
       "       [1.33511018e-306, 6.23057689e-307, 1.33511290e-306,\n",
       "        1.78019082e-306, 8.45559303e-307, 8.06613465e-308],\n",
       "       [6.89810244e-307, 1.22387550e-307, 2.22522596e-306,\n",
       "        8.34423917e-308, 9.79107193e-307, 3.33509775e-317]])"
      ]
     },
     "execution_count": 17,
     "metadata": {},
     "output_type": "execute_result"
    }
   ],
   "source": [
    "emp"
   ]
  },
  {
   "cell_type": "code",
   "execution_count": 18,
   "id": "f3e782f9",
   "metadata": {},
   "outputs": [],
   "source": [
    "emp_like = np . empty_like(lspace)"
   ]
  },
  {
   "cell_type": "code",
   "execution_count": 19,
   "id": "934415c5",
   "metadata": {},
   "outputs": [
    {
     "data": {
      "text/plain": [
       "array([1.        , 2.33333333, 3.66666667, 5.        ])"
      ]
     },
     "execution_count": 19,
     "metadata": {},
     "output_type": "execute_result"
    }
   ],
   "source": [
    "emp_like"
   ]
  },
  {
   "cell_type": "code",
   "execution_count": 20,
   "id": "4358e9d4",
   "metadata": {},
   "outputs": [],
   "source": [
    "ide = np . identity(45)"
   ]
  },
  {
   "cell_type": "code",
   "execution_count": 21,
   "id": "080d75e0",
   "metadata": {},
   "outputs": [
    {
     "data": {
      "text/plain": [
       "array([[1., 0., 0., ..., 0., 0., 0.],\n",
       "       [0., 1., 0., ..., 0., 0., 0.],\n",
       "       [0., 0., 1., ..., 0., 0., 0.],\n",
       "       ...,\n",
       "       [0., 0., 0., ..., 1., 0., 0.],\n",
       "       [0., 0., 0., ..., 0., 1., 0.],\n",
       "       [0., 0., 0., ..., 0., 0., 1.]])"
      ]
     },
     "execution_count": 21,
     "metadata": {},
     "output_type": "execute_result"
    }
   ],
   "source": [
    "ide"
   ]
  },
  {
   "cell_type": "code",
   "execution_count": 22,
   "id": "6528dd0d",
   "metadata": {},
   "outputs": [
    {
     "data": {
      "text/plain": [
       "(45, 45)"
      ]
     },
     "execution_count": 22,
     "metadata": {},
     "output_type": "execute_result"
    }
   ],
   "source": [
    "ide . shape"
   ]
  },
  {
   "cell_type": "code",
   "execution_count": 23,
   "id": "9134f002",
   "metadata": {},
   "outputs": [],
   "source": [
    "arr = np . arange(99)"
   ]
  },
  {
   "cell_type": "code",
   "execution_count": 24,
   "id": "64580698",
   "metadata": {},
   "outputs": [
    {
     "data": {
      "text/plain": [
       "array([ 0,  1,  2,  3,  4,  5,  6,  7,  8,  9, 10, 11, 12, 13, 14, 15, 16,\n",
       "       17, 18, 19, 20, 21, 22, 23, 24, 25, 26, 27, 28, 29, 30, 31, 32, 33,\n",
       "       34, 35, 36, 37, 38, 39, 40, 41, 42, 43, 44, 45, 46, 47, 48, 49, 50,\n",
       "       51, 52, 53, 54, 55, 56, 57, 58, 59, 60, 61, 62, 63, 64, 65, 66, 67,\n",
       "       68, 69, 70, 71, 72, 73, 74, 75, 76, 77, 78, 79, 80, 81, 82, 83, 84,\n",
       "       85, 86, 87, 88, 89, 90, 91, 92, 93, 94, 95, 96, 97, 98])"
      ]
     },
     "execution_count": 24,
     "metadata": {},
     "output_type": "execute_result"
    }
   ],
   "source": [
    "arr"
   ]
  },
  {
   "cell_type": "code",
   "execution_count": null,
   "id": "ef809633",
   "metadata": {},
   "outputs": [],
   "source": []
  }
 ],
 "metadata": {
  "kernelspec": {
   "display_name": "Python 3 (ipykernel)",
   "language": "python",
   "name": "python3"
  },
  "language_info": {
   "codemirror_mode": {
    "name": "ipython",
    "version": 3
   },
   "file_extension": ".py",
   "mimetype": "text/x-python",
   "name": "python",
   "nbconvert_exporter": "python",
   "pygments_lexer": "ipython3",
   "version": "3.9.12"
  }
 },
 "nbformat": 4,
 "nbformat_minor": 5
}
